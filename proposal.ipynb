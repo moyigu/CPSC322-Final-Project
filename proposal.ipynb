{
 "cells": [
  {
   "cell_type": "markdown",
   "metadata": {
    "id": "BC_vDlv47y6h"
   },
   "source": [
    " # Assessment of the hazard posed by Near-Earth Objects\n",
    "\n",
    "### By Danni Du, Lida Chen"
   ]
  },
  {
   "cell_type": "markdown",
   "metadata": {
    "id": "n3ViE8Hp9omk"
   },
   "source": [
    "## Data Description\n",
    "###Source\n",
    "NASA Open API\\\n",
    "NEO Earth Close Approaches\\\n",
    "--From Kaggle https://www.google.com/url?q=https%3A%2F%2Fwww.kaggle.com%2Fdatasets%2Fsameepvani%2Fnasa-nearest-earth-objects\n",
    "\n",
    "\\\n",
    "###Format\n",
    ".csv file (Head included in the first row)\n",
    "\n",
    "\\\n",
    "###Content\n",
    "\"There is an infinite number of objects in the outer space. Some of them are closer than we think. Even though we might think that a distance of 70,000 Km can not potentially harm us, but at an astronomical scale, this is a very small distance and can disrupt many natural phenomena. These objects/asteroids can thus prove to be harmful. Hence, it is wise to know what is surrounding us and what can harm us amongst those. Thus, this dataset compiles the list of NASA certified asteroids that are classified as the nearest earth object.\" --Kaggle\n",
    "\n",
    "\\\n",
    "###Attribute\n",
    "Features (X):\n",
    "1. **est_diameter_min** (Minimum Estimated Diameter in Kilometres)\n",
    "2. **est_diameter_max** (Maximum Estimated Diameter in Kilometres)\n",
    "3. **relative_velocity** (Velocity Relative to Earth)\n",
    "4. **miss_distance** (Distance in Kilometres missed)\n",
    "5. **absolute_magnitude** (Describes intrinsic luminosity)\n",
    "\n",
    "Label (y):\n",
    "1. **hazardous** (Boolean feature that shows whether asteroid is harmful or not)\n",
    "\n",
    "Others:\n",
    "1. **id** (Unique Identifier for each Asteroid)\n",
    "2. **name** (Name given by NASA)\n",
    "3. **orbiting_body** (Planet that the asteroid orbits, Earth)\n",
    "4. **sentry_object** (Included in sentry - an automated collision monitoring system, all false)"
   ]
  },
  {
   "cell_type": "markdown",
   "metadata": {
    "id": "j8uikrD4FUr3"
   },
   "source": [
    "## Implementation/technical merit\n",
    "### Anticipated challenges\n",
    "The data we choose does not include any invalid values. Thus, we do not need to handle any missing values. However, we may need to check if there is any presence of outliers. All of our features are numerical, so we also want to normalize our features because of their different range.\n",
    "\n",
    "We want to pick the best classifier. Because our label is binary, we may want to try to use decision tree. We will also try other three classifiers to see if we have better performance. Recall is more important here, because we do not want to miss any dangerous object."
   ]
  },
  {
   "cell_type": "markdown",
   "metadata": {
    "id": "8-1LVdmldbtw"
   },
   "source": [
    "## Potential impact of the results\n",
    "The result can be useful because we can use the model to predict whether a near Earth object is harmful for us. We can know the threat earlier and take actions. Organizations like NASA or SpaceX may be interested in the result. One of the reasons may be they want to track or lock harmful objects and avoid them or clean them."
   ]
  }
 ],
 "metadata": {
  "colab": {
   "provenance": []
  },
  "kernelspec": {
   "display_name": "Python 3",
   "name": "python3"
  },
  "language_info": {
   "name": "python"
  }
 },
 "nbformat": 4,
 "nbformat_minor": 0
}
